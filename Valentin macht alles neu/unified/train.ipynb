{
 "cells": [
  {
   "cell_type": "code",
   "execution_count": 1,
   "metadata": {},
   "outputs": [
    {
     "name": "stdout",
     "output_type": "stream",
     "text": [
      "c:\\Users\\vh\\Documents\\Projektmodul\\Valentin macht alles neu\\unified\n"
     ]
    }
   ],
   "source": [
    "import torch\n",
    "import torch.nn as nn\n",
    "from NARX import NARX\n",
    "from ANARX import ANARX\n",
    "import matplotlib.pyplot as plt\n",
    "from tqdm import tqdm\n",
    "from utilities import lag_matrix\n",
    "from sysidentpy.utils.generate_data import get_siso_data\n",
    "import scipy.io\n",
    "\n",
    "from pathlib import Path\n",
    "print(Path.cwd())\n"
   ]
  },
  {
   "cell_type": "code",
   "execution_count": 2,
   "metadata": {},
   "outputs": [],
   "source": [
    "# model = ANARX(5, [1, 1])\n",
    "# optim = torch.optim.Adam(model.parameters())\n",
    "# crit = nn.MSELoss()\n",
    "# x_train, x_valid, y_train, y_valid = get_siso_data(n=1000,\n",
    "#                                                    colored_noise=False,\n",
    "#                                                    sigma=0.01,\n",
    "#                                                    train_percentage=80)\n",
    "data = scipy.io.loadmat(\"data/1803\")\n",
    "in1 = data[\"u1_t\"]\n",
    "in2 = data[\"u2_t\"]\n",
    "out = data[\"y_t\"]"
   ]
  },
  {
   "cell_type": "code",
   "execution_count": 3,
   "metadata": {},
   "outputs": [],
   "source": [
    "model2 = ANARX(14, [5, 5], n_hidden=3, layersize= 10, SANARX=True)"
   ]
  },
  {
   "cell_type": "code",
   "execution_count": 4,
   "metadata": {},
   "outputs": [],
   "source": [
    "torch.save(model2, \"sanarx_14_5_5.pt\")"
   ]
  },
  {
   "cell_type": "code",
   "execution_count": 9,
   "metadata": {},
   "outputs": [
    {
     "data": {
      "text/plain": [
       "[<matplotlib.lines.Line2D at 0x27c18d2c970>]"
      ]
     },
     "execution_count": 9,
     "metadata": {},
     "output_type": "execute_result"
    },
    {
     "data": {
      "image/png": "[encoded data removed]",
      "text/plain": [
       "<Figure size 432x288 with 1 Axes>"
      ]
     },
     "metadata": {
      "needs_background": "light"
     },
     "output_type": "display_data"
    }
   ],
   "source": [
    "out = torch.Tensor(out).squeeze()\n",
    "in1 = torch.Tensor(in1).squeeze()\n",
    "in2 = torch.Tensor(in2).squeeze()\n",
    "in1_lagged = lag_matrix(in1, 5)\n",
    "out_lagged = lag_matrix(out, 14)\n",
    "in2_lagged = lag_matrix(in2, 5)"
   ]
  },
  {
   "cell_type": "code",
   "execution_count": 6,
   "metadata": {},
   "outputs": [
    {
     "data": {
      "image/png": "[encoded data removed]",
      "text/plain": [
       "<Figure size 432x288 with 1 Axes>"
      ]
     },
     "metadata": {
      "needs_background": "light"
     },
     "output_type": "display_data"
    }
   ],
   "source": [
    "plt.plot(out.detach().numpy())\n",
    "plt.plot(model2.predict([in1, in2]).detach().numpy())\n",
    "plt.show()"
   ]
  },
  {
   "cell_type": "code",
   "execution_count": 7,
   "metadata": {},
   "outputs": [
    {
     "name": "stderr",
     "output_type": "stream",
     "text": [
      "  0%|          | 0/100 [00:00<?, ?it/s]\n"
     ]
    },
    {
     "ename": "KeyboardInterrupt",
     "evalue": "",
     "output_type": "error",
     "traceback": [
      "\u001b[1;31m---------------------------------------------------------------------------\u001b[0m",
      "\u001b[1;31mKeyboardInterrupt\u001b[0m                         Traceback (most recent call last)",
      "\u001b[1;32mc:\\Users\\vh\\Documents\\Projektmodul\\Valentin macht alles neu\\unified\\train.ipynb Cell 7'\u001b[0m in \u001b[0;36m<module>\u001b[1;34m\u001b[0m\n\u001b[0;32m      <a href='vscode-notebook-cell:/c%3A/Users/vh/Documents/Projektmodul/Valentin%20macht%20alles%20neu/unified/train.ipynb#ch0000005?line=3'>4</a>\u001b[0m \u001b[39mfor\u001b[39;00m i \u001b[39min\u001b[39;00m tqdm(\u001b[39mrange\u001b[39m(\u001b[39m100\u001b[39m)):\n\u001b[0;32m      <a href='vscode-notebook-cell:/c%3A/Users/vh/Documents/Projektmodul/Valentin%20macht%20alles%20neu/unified/train.ipynb#ch0000005?line=4'>5</a>\u001b[0m     optim\u001b[39m.\u001b[39mzero_grad()\n\u001b[1;32m----> <a href='vscode-notebook-cell:/c%3A/Users/vh/Documents/Projektmodul/Valentin%20macht%20alles%20neu/unified/train.ipynb#ch0000005?line=5'>6</a>\u001b[0m     pred \u001b[39m=\u001b[39m model2\u001b[39m.\u001b[39;49mpredict([in1, in2])\n\u001b[0;32m      <a href='vscode-notebook-cell:/c%3A/Users/vh/Documents/Projektmodul/Valentin%20macht%20alles%20neu/unified/train.ipynb#ch0000005?line=6'>7</a>\u001b[0m     loss \u001b[39m=\u001b[39m crit(pred, out)\n\u001b[0;32m      <a href='vscode-notebook-cell:/c%3A/Users/vh/Documents/Projektmodul/Valentin%20macht%20alles%20neu/unified/train.ipynb#ch0000005?line=7'>8</a>\u001b[0m     loss\u001b[39m.\u001b[39mbackward()\n",
      "File \u001b[1;32mc:\\Users\\vh\\Documents\\Projektmodul\\Valentin macht alles neu\\unified\\NARXNET.py:64\u001b[0m, in \u001b[0;36mNARXNET.predict\u001b[1;34m(self, u, state)\u001b[0m\n\u001b[0;32m     <a href='file:///c%3A/Users/vh/Documents/Projektmodul/Valentin%20macht%20alles%20neu/unified/NARXNET.py?line=61'>62</a>\u001b[0m \u001b[39mfor\u001b[39;00m \u001b[39minput\u001b[39m \u001b[39min\u001b[39;00m u_lagged:\n\u001b[0;32m     <a href='file:///c%3A/Users/vh/Documents/Projektmodul/Valentin%20macht%20alles%20neu/unified/NARXNET.py?line=62'>63</a>\u001b[0m     inputs\u001b[39m.\u001b[39mappend(\u001b[39minput\u001b[39m[i]\u001b[39m.\u001b[39munsqueeze(dim\u001b[39m=\u001b[39m\u001b[39m0\u001b[39m))\n\u001b[1;32m---> <a href='file:///c%3A/Users/vh/Documents/Projektmodul/Valentin%20macht%20alles%20neu/unified/NARXNET.py?line=63'>64</a>\u001b[0m y_hat[i] \u001b[39m=\u001b[39m \u001b[39mself\u001b[39;49m\u001b[39m.\u001b[39;49mforward(state\u001b[39m.\u001b[39;49munsqueeze(dim\u001b[39m=\u001b[39;49m\u001b[39m0\u001b[39;49m), inputs)\n\u001b[0;32m     <a href='file:///c%3A/Users/vh/Documents/Projektmodul/Valentin%20macht%20alles%20neu/unified/NARXNET.py?line=64'>65</a>\u001b[0m state \u001b[39m=\u001b[39m torch\u001b[39m.\u001b[39mroll(state, \u001b[39m1\u001b[39m, \u001b[39m0\u001b[39m)\n\u001b[0;32m     <a href='file:///c%3A/Users/vh/Documents/Projektmodul/Valentin%20macht%20alles%20neu/unified/NARXNET.py?line=65'>66</a>\u001b[0m state[\u001b[39m0\u001b[39m] \u001b[39m=\u001b[39m y_hat[i]\n",
      "File \u001b[1;32mc:\\Users\\vh\\Documents\\Projektmodul\\Valentin macht alles neu\\unified\\ANARX.py:49\u001b[0m, in \u001b[0;36mANARX.forward\u001b[1;34m(self, output_lagged, inputs_lagged)\u001b[0m\n\u001b[0;32m     <a href='file:///c%3A/Users/vh/Documents/Projektmodul/Valentin%20macht%20alles%20neu/unified/ANARX.py?line=46'>47</a>\u001b[0m outputs \u001b[39m=\u001b[39m []\n\u001b[0;32m     <a href='file:///c%3A/Users/vh/Documents/Projektmodul/Valentin%20macht%20alles%20neu/unified/ANARX.py?line=47'>48</a>\u001b[0m \u001b[39mfor\u001b[39;00m i, subnet \u001b[39min\u001b[39;00m \u001b[39menumerate\u001b[39m(\u001b[39mself\u001b[39m\u001b[39m.\u001b[39msubnets):\n\u001b[1;32m---> <a href='file:///c%3A/Users/vh/Documents/Projektmodul/Valentin%20macht%20alles%20neu/unified/ANARX.py?line=48'>49</a>\u001b[0m     output \u001b[39m=\u001b[39m subnet(inputs[i])\n\u001b[0;32m     <a href='file:///c%3A/Users/vh/Documents/Projektmodul/Valentin%20macht%20alles%20neu/unified/ANARX.py?line=49'>50</a>\u001b[0m     outputs\u001b[39m.\u001b[39mappend(output)\n\u001b[0;32m     <a href='file:///c%3A/Users/vh/Documents/Projektmodul/Valentin%20macht%20alles%20neu/unified/ANARX.py?line=50'>51</a>\u001b[0m outputs \u001b[39m=\u001b[39m torch\u001b[39m.\u001b[39mcat(outputs, dim \u001b[39m=\u001b[39m\u001b[39m1\u001b[39m)\n",
      "File \u001b[1;32m~\\anaconda3\\envs\\Projektmodul\\lib\\site-packages\\torch\\nn\\modules\\module.py:1102\u001b[0m, in \u001b[0;36mModule._call_impl\u001b[1;34m(self, *input, **kwargs)\u001b[0m\n\u001b[0;32m   <a href='file:///c%3A/Users/vh/anaconda3/envs/Projektmodul/lib/site-packages/torch/nn/modules/module.py?line=1097'>1098</a>\u001b[0m \u001b[39m# If we don't have any hooks, we want to skip the rest of the logic in\u001b[39;00m\n\u001b[0;32m   <a href='file:///c%3A/Users/vh/anaconda3/envs/Projektmodul/lib/site-packages/torch/nn/modules/module.py?line=1098'>1099</a>\u001b[0m \u001b[39m# this function, and just call forward.\u001b[39;00m\n\u001b[0;32m   <a href='file:///c%3A/Users/vh/anaconda3/envs/Projektmodul/lib/site-packages/torch/nn/modules/module.py?line=1099'>1100</a>\u001b[0m \u001b[39mif\u001b[39;00m \u001b[39mnot\u001b[39;00m (\u001b[39mself\u001b[39m\u001b[39m.\u001b[39m_backward_hooks \u001b[39mor\u001b[39;00m \u001b[39mself\u001b[39m\u001b[39m.\u001b[39m_forward_hooks \u001b[39mor\u001b[39;00m \u001b[39mself\u001b[39m\u001b[39m.\u001b[39m_forward_pre_hooks \u001b[39mor\u001b[39;00m _global_backward_hooks\n\u001b[0;32m   <a href='file:///c%3A/Users/vh/anaconda3/envs/Projektmodul/lib/site-packages/torch/nn/modules/module.py?line=1100'>1101</a>\u001b[0m         \u001b[39mor\u001b[39;00m _global_forward_hooks \u001b[39mor\u001b[39;00m _global_forward_pre_hooks):\n\u001b[1;32m-> <a href='file:///c%3A/Users/vh/anaconda3/envs/Projektmodul/lib/site-packages/torch/nn/modules/module.py?line=1101'>1102</a>\u001b[0m     \u001b[39mreturn\u001b[39;00m forward_call(\u001b[39m*\u001b[39m\u001b[39minput\u001b[39m, \u001b[39m*\u001b[39m\u001b[39m*\u001b[39mkwargs)\n\u001b[0;32m   <a href='file:///c%3A/Users/vh/anaconda3/envs/Projektmodul/lib/site-packages/torch/nn/modules/module.py?line=1102'>1103</a>\u001b[0m \u001b[39m# Do not call functions when jit is used\u001b[39;00m\n\u001b[0;32m   <a href='file:///c%3A/Users/vh/anaconda3/envs/Projektmodul/lib/site-packages/torch/nn/modules/module.py?line=1103'>1104</a>\u001b[0m full_backward_hooks, non_full_backward_hooks \u001b[39m=\u001b[39m [], []\n",
      "File \u001b[1;32mc:\\Users\\vh\\Documents\\Projektmodul\\Valentin macht alles neu\\unified\\ANARX.py:86\u001b[0m, in \u001b[0;36mLAGNET.forward\u001b[1;34m(self, inputs)\u001b[0m\n\u001b[0;32m     <a href='file:///c%3A/Users/vh/Documents/Projektmodul/Valentin%20macht%20alles%20neu/unified/ANARX.py?line=83'>84</a>\u001b[0m x \u001b[39m=\u001b[39m inputs\n\u001b[0;32m     <a href='file:///c%3A/Users/vh/Documents/Projektmodul/Valentin%20macht%20alles%20neu/unified/ANARX.py?line=84'>85</a>\u001b[0m \u001b[39mfor\u001b[39;00m layer \u001b[39min\u001b[39;00m \u001b[39mself\u001b[39m\u001b[39m.\u001b[39mlinear_layers[:\u001b[39m-\u001b[39m\u001b[39m1\u001b[39m]:\n\u001b[1;32m---> <a href='file:///c%3A/Users/vh/Documents/Projektmodul/Valentin%20macht%20alles%20neu/unified/ANARX.py?line=85'>86</a>\u001b[0m     x \u001b[39m=\u001b[39m \u001b[39mself\u001b[39m\u001b[39m.\u001b[39mafunc(layer(x))\n\u001b[0;32m     <a href='file:///c%3A/Users/vh/Documents/Projektmodul/Valentin%20macht%20alles%20neu/unified/ANARX.py?line=86'>87</a>\u001b[0m \u001b[39mreturn\u001b[39;00m \u001b[39mself\u001b[39m\u001b[39m.\u001b[39mlinear_layers[\u001b[39m-\u001b[39m\u001b[39m1\u001b[39m](x)\n",
      "File \u001b[1;32m~\\anaconda3\\envs\\Projektmodul\\lib\\site-packages\\torch\\nn\\modules\\module.py:1102\u001b[0m, in \u001b[0;36mModule._call_impl\u001b[1;34m(self, *input, **kwargs)\u001b[0m\n\u001b[0;32m   <a href='file:///c%3A/Users/vh/anaconda3/envs/Projektmodul/lib/site-packages/torch/nn/modules/module.py?line=1097'>1098</a>\u001b[0m \u001b[39m# If we don't have any hooks, we want to skip the rest of the logic in\u001b[39;00m\n\u001b[0;32m   <a href='file:///c%3A/Users/vh/anaconda3/envs/Projektmodul/lib/site-packages/torch/nn/modules/module.py?line=1098'>1099</a>\u001b[0m \u001b[39m# this function, and just call forward.\u001b[39;00m\n\u001b[0;32m   <a href='file:///c%3A/Users/vh/anaconda3/envs/Projektmodul/lib/site-packages/torch/nn/modules/module.py?line=1099'>1100</a>\u001b[0m \u001b[39mif\u001b[39;00m \u001b[39mnot\u001b[39;00m (\u001b[39mself\u001b[39m\u001b[39m.\u001b[39m_backward_hooks \u001b[39mor\u001b[39;00m \u001b[39mself\u001b[39m\u001b[39m.\u001b[39m_forward_hooks \u001b[39mor\u001b[39;00m \u001b[39mself\u001b[39m\u001b[39m.\u001b[39m_forward_pre_hooks \u001b[39mor\u001b[39;00m _global_backward_hooks\n\u001b[0;32m   <a href='file:///c%3A/Users/vh/anaconda3/envs/Projektmodul/lib/site-packages/torch/nn/modules/module.py?line=1100'>1101</a>\u001b[0m         \u001b[39mor\u001b[39;00m _global_forward_hooks \u001b[39mor\u001b[39;00m _global_forward_pre_hooks):\n\u001b[1;32m-> <a href='file:///c%3A/Users/vh/anaconda3/envs/Projektmodul/lib/site-packages/torch/nn/modules/module.py?line=1101'>1102</a>\u001b[0m     \u001b[39mreturn\u001b[39;00m forward_call(\u001b[39m*\u001b[39m\u001b[39minput\u001b[39m, \u001b[39m*\u001b[39m\u001b[39m*\u001b[39mkwargs)\n\u001b[0;32m   <a href='file:///c%3A/Users/vh/anaconda3/envs/Projektmodul/lib/site-packages/torch/nn/modules/module.py?line=1102'>1103</a>\u001b[0m \u001b[39m# Do not call functions when jit is used\u001b[39;00m\n\u001b[0;32m   <a href='file:///c%3A/Users/vh/anaconda3/envs/Projektmodul/lib/site-packages/torch/nn/modules/module.py?line=1103'>1104</a>\u001b[0m full_backward_hooks, non_full_backward_hooks \u001b[39m=\u001b[39m [], []\n",
      "File \u001b[1;32m~\\anaconda3\\envs\\Projektmodul\\lib\\site-packages\\torch\\nn\\modules\\linear.py:103\u001b[0m, in \u001b[0;36mLinear.forward\u001b[1;34m(self, input)\u001b[0m\n\u001b[0;32m    <a href='file:///c%3A/Users/vh/anaconda3/envs/Projektmodul/lib/site-packages/torch/nn/modules/linear.py?line=101'>102</a>\u001b[0m \u001b[39mdef\u001b[39;00m \u001b[39mforward\u001b[39m(\u001b[39mself\u001b[39m, \u001b[39minput\u001b[39m: Tensor) \u001b[39m-\u001b[39m\u001b[39m>\u001b[39m Tensor:\n\u001b[1;32m--> <a href='file:///c%3A/Users/vh/anaconda3/envs/Projektmodul/lib/site-packages/torch/nn/modules/linear.py?line=102'>103</a>\u001b[0m     \u001b[39mreturn\u001b[39;00m F\u001b[39m.\u001b[39;49mlinear(\u001b[39minput\u001b[39;49m, \u001b[39mself\u001b[39;49m\u001b[39m.\u001b[39;49mweight, \u001b[39mself\u001b[39;49m\u001b[39m.\u001b[39;49mbias)\n",
      "File \u001b[1;32m~\\anaconda3\\envs\\Projektmodul\\lib\\site-packages\\torch\\nn\\functional.py:1848\u001b[0m, in \u001b[0;36mlinear\u001b[1;34m(input, weight, bias)\u001b[0m\n\u001b[0;32m   <a href='file:///c%3A/Users/vh/anaconda3/envs/Projektmodul/lib/site-packages/torch/nn/functional.py?line=1845'>1846</a>\u001b[0m \u001b[39mif\u001b[39;00m has_torch_function_variadic(\u001b[39minput\u001b[39m, weight, bias):\n\u001b[0;32m   <a href='file:///c%3A/Users/vh/anaconda3/envs/Projektmodul/lib/site-packages/torch/nn/functional.py?line=1846'>1847</a>\u001b[0m     \u001b[39mreturn\u001b[39;00m handle_torch_function(linear, (\u001b[39minput\u001b[39m, weight, bias), \u001b[39minput\u001b[39m, weight, bias\u001b[39m=\u001b[39mbias)\n\u001b[1;32m-> <a href='file:///c%3A/Users/vh/anaconda3/envs/Projektmodul/lib/site-packages/torch/nn/functional.py?line=1847'>1848</a>\u001b[0m \u001b[39mreturn\u001b[39;00m torch\u001b[39m.\u001b[39;49m_C\u001b[39m.\u001b[39;49m_nn\u001b[39m.\u001b[39;49mlinear(\u001b[39minput\u001b[39;49m, weight, bias)\n",
      "\u001b[1;31mKeyboardInterrupt\u001b[0m: "
     ]
    }
   ],
   "source": [
    "# Closed Loop Training\n",
    "optim = torch.optim.Adam(model2.parameters())\n",
    "crit = nn.MSELoss()\n",
    "for i in tqdm(range(100)):\n",
    "    optim.zero_grad()\n",
    "    pred = model2.predict([in1, in2])\n",
    "    loss = crit(pred, out)\n",
    "    loss.backward()\n",
    "    optim.step()"
   ]
  },
  {
   "cell_type": "code",
   "execution_count": null,
   "metadata": {},
   "outputs": [
    {
     "name": "stdout",
     "output_type": "stream",
     "text": [
      "ANARX(\n",
      "  (subnets): ModuleList(\n",
      "    (0): LAGNET(\n",
      "      (linear_layers): ModuleList(\n",
      "        (0): Linear(in_features=3, out_features=1, bias=True)\n",
      "      )\n",
      "    )\n",
      "    (1): LAGNET(\n",
      "      (linear_layers): ModuleList(\n",
      "        (0): Linear(in_features=3, out_features=10, bias=True)\n",
      "        (1): Linear(in_features=10, out_features=10, bias=True)\n",
      "        (2): Linear(in_features=10, out_features=1, bias=True)\n",
      "      )\n",
      "    )\n",
      "    (2): LAGNET(\n",
      "      (linear_layers): ModuleList(\n",
      "        (0): Linear(in_features=3, out_features=10, bias=True)\n",
      "        (1): Linear(in_features=10, out_features=10, bias=True)\n",
      "        (2): Linear(in_features=10, out_features=1, bias=True)\n",
      "      )\n",
      "    )\n",
      "    (3): LAGNET(\n",
      "      (linear_layers): ModuleList(\n",
      "        (0): Linear(in_features=3, out_features=10, bias=True)\n",
      "        (1): Linear(in_features=10, out_features=10, bias=True)\n",
      "        (2): Linear(in_features=10, out_features=1, bias=True)\n",
      "      )\n",
      "    )\n",
      "    (4): LAGNET(\n",
      "      (linear_layers): ModuleList(\n",
      "        (0): Linear(in_features=3, out_features=10, bias=True)\n",
      "        (1): Linear(in_features=10, out_features=10, bias=True)\n",
      "        (2): Linear(in_features=10, out_features=1, bias=True)\n",
      "      )\n",
      "    )\n",
      "    (5): LAGNET(\n",
      "      (linear_layers): ModuleList(\n",
      "        (0): Linear(in_features=1, out_features=10, bias=True)\n",
      "        (1): Linear(in_features=10, out_features=10, bias=True)\n",
      "        (2): Linear(in_features=10, out_features=1, bias=True)\n",
      "      )\n",
      "    )\n",
      "    (6): LAGNET(\n",
      "      (linear_layers): ModuleList(\n",
      "        (0): Linear(in_features=1, out_features=10, bias=True)\n",
      "        (1): Linear(in_features=10, out_features=10, bias=True)\n",
      "        (2): Linear(in_features=10, out_features=1, bias=True)\n",
      "      )\n",
      "    )\n",
      "    (7): LAGNET(\n",
      "      (linear_layers): ModuleList(\n",
      "        (0): Linear(in_features=1, out_features=10, bias=True)\n",
      "        (1): Linear(in_features=10, out_features=10, bias=True)\n",
      "        (2): Linear(in_features=10, out_features=1, bias=True)\n",
      "      )\n",
      "    )\n",
      "    (8): LAGNET(\n",
      "      (linear_layers): ModuleList(\n",
      "        (0): Linear(in_features=1, out_features=10, bias=True)\n",
      "        (1): Linear(in_features=10, out_features=10, bias=True)\n",
      "        (2): Linear(in_features=10, out_features=1, bias=True)\n",
      "      )\n",
      "    )\n",
      "    (9): LAGNET(\n",
      "      (linear_layers): ModuleList(\n",
      "        (0): Linear(in_features=1, out_features=10, bias=True)\n",
      "        (1): Linear(in_features=10, out_features=10, bias=True)\n",
      "        (2): Linear(in_features=10, out_features=1, bias=True)\n",
      "      )\n",
      "    )\n",
      "    (10): LAGNET(\n",
      "      (linear_layers): ModuleList(\n",
      "        (0): Linear(in_features=1, out_features=10, bias=True)\n",
      "        (1): Linear(in_features=10, out_features=10, bias=True)\n",
      "        (2): Linear(in_features=10, out_features=1, bias=True)\n",
      "      )\n",
      "    )\n",
      "    (11): LAGNET(\n",
      "      (linear_layers): ModuleList(\n",
      "        (0): Linear(in_features=1, out_features=10, bias=True)\n",
      "        (1): Linear(in_features=10, out_features=10, bias=True)\n",
      "        (2): Linear(in_features=10, out_features=1, bias=True)\n",
      "      )\n",
      "    )\n",
      "    (12): LAGNET(\n",
      "      (linear_layers): ModuleList(\n",
      "        (0): Linear(in_features=1, out_features=10, bias=True)\n",
      "        (1): Linear(in_features=10, out_features=10, bias=True)\n",
      "        (2): Linear(in_features=10, out_features=1, bias=True)\n",
      "      )\n",
      "    )\n",
      "    (13): LAGNET(\n",
      "      (linear_layers): ModuleList(\n",
      "        (0): Linear(in_features=1, out_features=10, bias=True)\n",
      "        (1): Linear(in_features=10, out_features=10, bias=True)\n",
      "        (2): Linear(in_features=10, out_features=1, bias=True)\n",
      "      )\n",
      "    )\n",
      "  )\n",
      ")\n"
     ]
    },
    {
     "name": "stderr",
     "output_type": "stream",
     "text": [
      "100%|██████████| 200/200 [01:55<00:00,  1.74it/s]\n"
     ]
    }
   ],
   "source": [
    "# Open Loop Training\n",
    "optim = torch.optim.Adam(model2.parameters())\n",
    "crit = nn.MSELoss()\n",
    "dataset = torch.utils.data.TensorDataset(in1_lagged, in2_lagged, out_lagged, out)\n",
    "loader = torch.utils.data.DataLoader(dataset, batch_size=100, shuffle=False)\n",
    "print(model2)\n",
    "for epoch in tqdm(range(200)):\n",
    "    for i1, i2, ol, os in loader:\n",
    "        optim.zero_grad()\n",
    "        result = model2(ol, [i1, i2])\n",
    "        # print(result)\n",
    "        loss = crit(result, os)\n",
    "        loss.backward()\n",
    "        optim.step()"
   ]
  }
 ],
 "metadata": {
  "interpreter": {
   "hash": "065d846d6ebaa483d35d8a16a352bc8e0fee095aa1ce42ceeff74c200bef19a0"
  },
  "kernelspec": {
   "display_name": "Python 3.9.10 ('Projektmodul')",
   "language": "python",
   "name": "python3"
  },
  "language_info": {
   "codemirror_mode": {
    "name": "ipython",
    "version": 3
   },
   "file_extension": ".py",
   "mimetype": "text/x-python",
   "name": "python",
   "nbconvert_exporter": "python",
   "pygments_lexer": "ipython3",
   "version": "3.9.10"
  },
  "orig_nbformat": 4
 },
 "nbformat": 4,
 "nbformat_minor": 2
}
