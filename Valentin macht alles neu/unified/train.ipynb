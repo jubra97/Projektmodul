{
 "cells": [
  {
   "cell_type": "code",
   "execution_count": 1,
   "metadata": {},
   "outputs": [
    {
     "name": "stdout",
     "output_type": "stream",
     "text": [
      "c:\\Users\\vh\\Documents\\Projektmodul\\Valentin macht alles neu\\unified\n"
     ]
    }
   ],
   "source": [
    "import torch\n",
    "import torch.nn as nn\n",
    "from NARX import NARX\n",
    "from ANARX import ANARX\n",
    "import matplotlib.pyplot as plt\n",
    "from tqdm import tqdm\n",
    "from utilities import lag_matrix\n",
    "from sysidentpy.utils.generate_data import get_siso_data\n",
    "import scipy.io\n",
    "\n",
    "from pathlib import Path\n",
    "print(Path.cwd())\n"
   ]
  },
  {
   "cell_type": "code",
   "execution_count": 76,
   "metadata": {},
   "outputs": [],
   "source": [
    "# model = ANARX(5, [1, 1])\n",
    "# optim = torch.optim.Adam(model.parameters())\n",
    "# crit = nn.MSELoss()\n",
    "# x_train, x_valid, y_train, y_valid = get_siso_data(n=1000,\n",
    "#                                                    colored_noise=False,\n",
    "#                                                    sigma=0.01,\n",
    "#                                                    train_percentage=80)\n",
    "data = scipy.io.loadmat(\"data/1803\")\n",
    "in1 = data[\"u1_t\"]\n",
    "in2 = data[\"u2_t\"]\n",
    "out = data[\"y_t\"]"
   ]
  },
  {
   "cell_type": "code",
   "execution_count": 77,
   "metadata": {},
   "outputs": [],
   "source": [
    "model2 = ANARX(5, [2, 2], n_hidden=5, layersize= 20)"
   ]
  },
  {
   "cell_type": "code",
   "execution_count": 78,
   "metadata": {},
   "outputs": [],
   "source": [
    "out = torch.Tensor(out).squeeze()\n",
    "in1 = torch.Tensor(in1).squeeze()\n",
    "in2 = torch.Tensor(in2).squeeze()\n",
    "in1_lagged = lag_matrix(in1, 2)\n",
    "out_lagged = lag_matrix(out, 5)\n",
    "in2_lagged = lag_matrix(in2, 2)"
   ]
  },
  {
   "cell_type": "code",
   "execution_count": 94,
   "metadata": {},
   "outputs": [
    {
     "data": {
      "image/png": "[encoded data removed]",
      "text/plain": [
       "<Figure size 432x288 with 1 Axes>"
      ]
     },
     "metadata": {
      "needs_background": "light"
     },
     "output_type": "display_data"
    }
   ],
   "source": [
    "plt.plot(out.detach().numpy())\n",
    "plt.plot(model2.predict([in1, in2]).detach().numpy())\n",
    "plt.show()"
   ]
  },
  {
   "cell_type": "code",
   "execution_count": 89,
   "metadata": {},
   "outputs": [
    {
     "name": "stderr",
     "output_type": "stream",
     "text": [
      "100%|██████████| 10/10 [02:45<00:00, 16.50s/it]\n"
     ]
    }
   ],
   "source": [
    "# Closed Loop Training\n",
    "optim = torch.optim.Adam(model2.parameters())\n",
    "crit = nn.MSELoss()\n",
    "for i in tqdm(range(10)):\n",
    "    optim.zero_grad()\n",
    "    pred = model2.predict([in1, in2])\n",
    "    loss = crit(pred, out)\n",
    "    loss.backward()\n",
    "    optim.step()"
   ]
  },
  {
   "cell_type": "code",
   "execution_count": 93,
   "metadata": {},
   "outputs": [
    {
     "name": "stderr",
     "output_type": "stream",
     "text": [
      "100%|██████████| 1000/1000 [02:47<00:00,  5.98it/s]\n"
     ]
    }
   ],
   "source": [
    "# Open Loop Training\n",
    "optim = torch.optim.Adam(model2.parameters())\n",
    "crit = nn.MSELoss()\n",
    "dataset = torch.utils.data.TensorDataset(in1_lagged, in2_lagged, out_lagged, out)\n",
    "loader = torch.utils.data.DataLoader(dataset, batch_size=2000, shuffle=False)\n",
    "for epoch in tqdm(range(1000)):\n",
    "    for i1, i2, ol, os in loader:\n",
    "        optim.zero_grad()\n",
    "        result = model2(ol, [i1, i2])\n",
    "        # print(result)\n",
    "        loss = crit(result, os)\n",
    "        loss.backward()\n",
    "        optim.step()"
   ]
  }
 ],
 "metadata": {
  "interpreter": {
   "hash": "065d846d6ebaa483d35d8a16a352bc8e0fee095aa1ce42ceeff74c200bef19a0"
  },
  "kernelspec": {
   "display_name": "Python 3.9.10 ('Projektmodul')",
   "language": "python",
   "name": "python3"
  },
  "language_info": {
   "codemirror_mode": {
    "name": "ipython",
    "version": 3
   },
   "file_extension": ".py",
   "mimetype": "text/x-python",
   "name": "python",
   "nbconvert_exporter": "python",
   "pygments_lexer": "ipython3",
   "version": "3.9.10"
  },
  "orig_nbformat": 4
 },
 "nbformat": 4,
 "nbformat_minor": 2
}
