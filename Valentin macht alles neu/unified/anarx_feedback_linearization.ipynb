{
 "cells": [
  {
   "cell_type": "code",
   "execution_count": 25,
   "metadata": {},
   "outputs": [
    {
     "name": "stdout",
     "output_type": "stream",
     "text": [
      "c:\\Users\\vh\\Documents\\Projektmodul\\Valentin macht alles neu\\unified\n"
     ]
    }
   ],
   "source": [
    "import torch\n",
    "from ANARX import ANARX, LAGNET\n",
    "from utilities import lag_matrix\n",
    "#%matplotlib widget\n",
    "import matplotlib.pyplot as plt\n",
    "import numpy as np\n",
    "import scipy.io\n",
    "from tqdm import tqdm\n",
    "from pathlib import Path\n",
    "print(Path.cwd())"
   ]
  },
  {
   "cell_type": "code",
   "execution_count": 40,
   "metadata": {},
   "outputs": [],
   "source": [
    "model = torch.load(\"sanarx_14_5_test.pt\")\n",
    "data = scipy.io.loadmat(\"data/1803\")\n",
    "input = data[\"u2_t\"]\n",
    "out = data[\"y_t\"]"
   ]
  },
  {
   "cell_type": "code",
   "execution_count": 27,
   "metadata": {},
   "outputs": [],
   "source": [
    "INPUT_LAGS = 5\n",
    "OUTPUT_LAGS = 14"
   ]
  },
  {
   "cell_type": "code",
   "execution_count": 44,
   "metadata": {},
   "outputs": [],
   "source": [
    "out = torch.Tensor(out).squeeze()\n",
    "input = torch.Tensor(input).squeeze()\n",
    "in_lagged = lag_matrix(input, INPUT_LAGS)\n",
    "out_lagged = lag_matrix(out, OUTPUT_LAGS)"
   ]
  },
  {
   "cell_type": "code",
   "execution_count": 51,
   "metadata": {},
   "outputs": [],
   "source": [
    "sinewave = np.sin(np.arange(0, 60, 0.01))\n",
    "step = np.concatenate((np.zeros(2000), .3*np.ones(2000), np.zeros(2000)))\n",
    "# plt.plot(sinewave)\n",
    "# plt.show()"
   ]
  },
  {
   "cell_type": "code",
   "execution_count": 57,
   "metadata": {},
   "outputs": [
    {
     "data": {
      "image/png": "[encoded data removed]",
      "text/plain": [
       "<Figure size 432x288 with 1 Axes>"
      ]
     },
     "metadata": {
      "needs_background": "light"
     },
     "output_type": "display_data"
    }
   ],
   "source": [
    "y_hat = model.justpredict([controlled_input])\n",
    "plt.plot(y_hat[1980:2200])\n",
    "# plt.plot(out)\n",
    "plt.plot(step[1980:2200])\n",
    "plt.show()"
   ]
  },
  {
   "cell_type": "code",
   "execution_count": 31,
   "metadata": {},
   "outputs": [
    {
     "name": "stderr",
     "output_type": "stream",
     "text": [
      "100%|██████████| 6000/6000 [00:19<00:00, 304.01it/s]\n"
     ]
    }
   ],
   "source": [
    "x = torch.zeros(model.n_subnets).float()\n",
    "\n",
    "def nextState(x, u):\n",
    "    inputs = []\n",
    "    for i in range(model.n_subnets):\n",
    "        if model.lag_map[i][0] == 1:\n",
    "            inputs.append(torch.cat((torch.unsqueeze(u, dim=0), torch.unsqueeze(x[0], dim=0))))\n",
    "        else:\n",
    "            inputs.append(torch.unsqueeze(x[0], dim=0))\n",
    "            \n",
    "    next = torch.zeros(model.n_subnets)\n",
    "    for i in range(model.n_subnets-1):\n",
    "        next[i] = x[i+1] + model.subnets[i](inputs[i])\n",
    "    next[model.n_subnets-1] =  model.subnets[model.n_subnets - 1](inputs[model.n_subnets-1])\n",
    "    return next\n",
    "y = []\n",
    "for i in tqdm(range(6000)):\n",
    "    y.append(x[0].detach().numpy())\n",
    "    x = nextState(x, input[i])"
   ]
  },
  {
   "cell_type": "markdown",
   "metadata": {},
   "source": [
    "Torch Linear Funktion:\n",
    "\n",
    "$ \\eta_1(t) = \\left[u(t), y(t)\\right]^T\\cdot A^T + b $ bzw.\n",
    "$ u(t)\\cdot a_1 + y(t) \\cdot a_2 + b = \\eta_1(t)$\n",
    "\n",
    "dannn lässt sich u(t) invers bestimmen:\n",
    "$ u(t) = \\dfrac{\\eta_1(t)-y(t)\\cdot a_2 - b}{a_1}$"
   ]
  },
  {
   "cell_type": "code",
   "execution_count": 33,
   "metadata": {},
   "outputs": [],
   "source": [
    "a1 = model.subnets[0].linear_layers[0].weight[0,0]\n",
    "a2 = model.subnets[0].linear_layers[0].weight[0,0]\n",
    "b = model.subnets[0].linear_layers[0].bias"
   ]
  },
  {
   "cell_type": "code",
   "execution_count": 52,
   "metadata": {},
   "outputs": [
    {
     "name": "stderr",
     "output_type": "stream",
     "text": [
      "100%|██████████| 6000/6000 [00:20<00:00, 290.06it/s]\n"
     ]
    }
   ],
   "source": [
    "x = torch.zeros(model.n_subnets).float()\n",
    "controlled_input = torch.zeros_like(input)\n",
    "eta = torch.zeros(model.n_subnets).float()\n",
    "\n",
    "\n",
    "def nextState(x, u):\n",
    "    inputs = []\n",
    "    #print(model.lag_map)\n",
    "    for i in range(model.n_subnets):\n",
    "        if model.lag_map[i][0] == 1:\n",
    "            inputs.append(torch.cat((torch.unsqueeze(u, dim=0), torch.unsqueeze(x[0], dim=0))))\n",
    "        else:\n",
    "            inputs.append(torch.unsqueeze(x[0], dim=0))\n",
    "    # print(inputs)\n",
    "\n",
    "    next = torch.zeros(model.n_subnets)\n",
    "    for i in range(model.n_subnets-1):\n",
    "        next[i] = x[i+1] + model.subnets[i](inputs[i])\n",
    "    next[model.n_subnets-1] =  model.subnets[model.n_subnets - 1](inputs[model.n_subnets-1])\n",
    "    return next\n",
    "y = []\n",
    "for i in tqdm(range(6000)):\n",
    "    y.append(x[0].detach().numpy())\n",
    "    controlled_input[i] = (step[i]-x[1] - torch.Tensor(x[0]) * a2 - b)/a2\n",
    "    x = nextState(x, controlled_input[i])"
   ]
  },
  {
   "cell_type": "code",
   "execution_count": 56,
   "metadata": {},
   "outputs": [
    {
     "data": {
      "text/plain": [
       "[<matplotlib.lines.Line2D at 0x23ae29852b0>]"
      ]
     },
     "execution_count": 56,
     "metadata": {},
     "output_type": "execute_result"
    },
    {
     "data": {
      "image/png": "[encoded data removed]",
      "text/plain": [
       "<Figure size 432x288 with 1 Axes>"
      ]
     },
     "metadata": {
      "needs_background": "light"
     },
     "output_type": "display_data"
    }
   ],
   "source": [
    "# plt.plot(controlled_input.detach().numpy())\n",
    "plt.plot(step)\n",
    "plt.plot(y)\n"
   ]
  }
 ],
 "metadata": {
  "interpreter": {
   "hash": "065d846d6ebaa483d35d8a16a352bc8e0fee095aa1ce42ceeff74c200bef19a0"
  },
  "kernelspec": {
   "display_name": "Python 3.9.10 ('Projektmodul')",
   "language": "python",
   "name": "python3"
  },
  "language_info": {
   "codemirror_mode": {
    "name": "ipython",
    "version": 3
   },
   "file_extension": ".py",
   "mimetype": "text/x-python",
   "name": "python",
   "nbconvert_exporter": "python",
   "pygments_lexer": "ipython3",
   "version": "3.9.10"
  },
  "orig_nbformat": 4
 },
 "nbformat": 4,
 "nbformat_minor": 2
}
