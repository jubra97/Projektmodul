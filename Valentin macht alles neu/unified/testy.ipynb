{
 "cells": [
  {
   "cell_type": "code",
   "execution_count": 1,
   "metadata": {},
   "outputs": [],
   "source": [
    "import torch\n",
    "import torch.nn as nn\n",
    "from utilities import lag_matrix\n",
    "from NARX import NARX\n",
    "from ANARX import ANARX\n",
    "import matplotlib.pyplot as plt"
   ]
  },
  {
   "cell_type": "code",
   "execution_count": 2,
   "metadata": {},
   "outputs": [],
   "source": [
    "nana = ANARX(2, [2], n_hidden=5, layersize=100)"
   ]
  },
  {
   "cell_type": "code",
   "execution_count": 3,
   "metadata": {},
   "outputs": [
    {
     "ename": "TypeError",
     "evalue": "lag_matrix() takes 2 positional arguments but 3 were given",
     "output_type": "error",
     "traceback": [
      "\u001b[1;31m---------------------------------------------------------------------------\u001b[0m",
      "\u001b[1;31mTypeError\u001b[0m                                 Traceback (most recent call last)",
      "\u001b[1;32mc:\\Users\\vh\\Documents\\Projektmodul\\Valentin macht alles neu\\unified\\testy.ipynb Cell 3'\u001b[0m in \u001b[0;36m<module>\u001b[1;34m\u001b[0m\n\u001b[0;32m      <a href='vscode-notebook-cell:/c%3A/Users/vh/Documents/Projektmodul/Valentin%20macht%20alles%20neu/unified/testy.ipynb#ch0000002?line=1'>2</a>\u001b[0m in1 \u001b[39m=\u001b[39m torch\u001b[39m.\u001b[39marange(\u001b[39m100\u001b[39m, dtype\u001b[39m=\u001b[39mtorch\u001b[39m.\u001b[39mfloat32)\n\u001b[0;32m      <a href='vscode-notebook-cell:/c%3A/Users/vh/Documents/Projektmodul/Valentin%20macht%20alles%20neu/unified/testy.ipynb#ch0000002?line=2'>3</a>\u001b[0m in2 \u001b[39m=\u001b[39m torch\u001b[39m.\u001b[39marange(\u001b[39m100\u001b[39m, dtype\u001b[39m=\u001b[39mtorch\u001b[39m.\u001b[39mfloat32)\n\u001b[1;32m----> <a href='vscode-notebook-cell:/c%3A/Users/vh/Documents/Projektmodul/Valentin%20macht%20alles%20neu/unified/testy.ipynb#ch0000002?line=4'>5</a>\u001b[0m in1_lagged \u001b[39m=\u001b[39m lag_matrix(in1, \u001b[39m4\u001b[39;49m, \u001b[39m4\u001b[39;49m)\n\u001b[0;32m      <a href='vscode-notebook-cell:/c%3A/Users/vh/Documents/Projektmodul/Valentin%20macht%20alles%20neu/unified/testy.ipynb#ch0000002?line=5'>6</a>\u001b[0m in2_lagged \u001b[39m=\u001b[39m lag_matrix(in2, \u001b[39m1\u001b[39m, \u001b[39m4\u001b[39m)\n\u001b[0;32m      <a href='vscode-notebook-cell:/c%3A/Users/vh/Documents/Projektmodul/Valentin%20macht%20alles%20neu/unified/testy.ipynb#ch0000002?line=6'>7</a>\u001b[0m out_lagged \u001b[39m=\u001b[39m lag_matrix(outs, \u001b[39m3\u001b[39m, \u001b[39m4\u001b[39m)\n",
      "\u001b[1;31mTypeError\u001b[0m: lag_matrix() takes 2 positional arguments but 3 were given"
     ]
    }
   ],
   "source": [
    "outs = torch.arange(100, dtype=torch.float32)\n",
    "in1 = torch.arange(100, dtype=torch.float32)\n",
    "in2 = torch.arange(100, dtype=torch.float32)\n",
    "\n",
    "in1_lagged = lag_matrix(in1, 4, 4)\n",
    "in2_lagged = lag_matrix(in2, 1, 4)\n",
    "out_lagged = lag_matrix(outs, 3, 4)\n",
    "y_hat = torch.zeros_like(outs)\n",
    "for i in range(len(y_hat)):\n",
    "    y_hat[i] = nana(out_lagged[i], [in1_lagged[i], in2_lagged[i]])\n",
    "\n",
    "plt.plot(nana.predict([in1, in2]).detach().numpy())\n",
    "plt.plot(y_hat.detach().numpy())\n",
    "plt.show()\n"
   ]
  },
  {
   "cell_type": "code",
   "execution_count": 4,
   "metadata": {},
   "outputs": [
    {
     "name": "stdout",
     "output_type": "stream",
     "text": [
      "[tensor([0., 0., 1., 2.]), tensor([1., 2.]), tensor([1., 2.])]\n",
      "[tensor([2., 1., 0., 0.]), tensor([2., 1.]), tensor([2., 1.])]\n",
      "[tensor([2., 2., 2.]), tensor([1., 1., 1.]), tensor([0.]), tensor([0.])]\n",
      "[tensor([0., 0., 1., 2.]), tensor([1., 2.]), tensor([1., 2.])]\n",
      "[tensor([2., 1., 0., 0.]), tensor([2., 1.]), tensor([2., 1.])]\n",
      "[tensor([2., 2., 2.]), tensor([1., 1., 1.]), tensor([0.]), tensor([0.])]\n"
     ]
    }
   ],
   "source": [
    "ana = ANARX(2, [4,2])\n",
    "outs = torch.arange(4, dtype=torch.float32)\n",
    "in1 = torch.arange(4, dtype=torch.float32)\n",
    "in2 = torch.arange(4, dtype=torch.float32)\n",
    "in1_lagged = lag_matrix(in1, 4)\n",
    "in2_lagged = lag_matrix(in2, 2)\n",
    "out_lagged = lag_matrix(outs, 2)\n",
    "inputlist = [in1_lagged[3], in2_lagged[3]]\n",
    "inputlist.append(out_lagged[3])\n",
    "print(inputlist)\n",
    "flipped = [tensor.flip(dims = [0]) for tensor in inputlist]\n",
    "print(flipped)\n",
    "outlist = []\n",
    "for i in range(max([tensor.size(dim=0) for tensor in flipped])):\n",
    "    outy = torch.Tensor([tensor[i] for tensor in flipped if i<tensor.size(dim=0)])\n",
    "    outlist.append(outy)\n",
    "print(outlist)\n",
    "print(ana.prepare_inputs(out_lagged[3], [in1_lagged[3], in2_lagged[3]]))\n",
    "\n",
    "\n"
   ]
  },
  {
   "cell_type": "code",
   "execution_count": null,
   "metadata": {},
   "outputs": [
    {
     "data": {
      "text/plain": [
       "torch.Size([5])"
      ]
     },
     "execution_count": 8,
     "metadata": {},
     "output_type": "execute_result"
    }
   ],
   "source": [
    "a = torch.Tensor([1,2,3])\n",
    "b = torch.Tensor(5)\n",
    "b.unsqueeze(dim = 0).size()\n",
    "b.size()"
   ]
  }
 ],
 "metadata": {
  "interpreter": {
   "hash": "065d846d6ebaa483d35d8a16a352bc8e0fee095aa1ce42ceeff74c200bef19a0"
  },
  "kernelspec": {
   "display_name": "Python 3.9.10 ('Projektmodul')",
   "language": "python",
   "name": "python3"
  },
  "language_info": {
   "codemirror_mode": {
    "name": "ipython",
    "version": 3
   },
   "file_extension": ".py",
   "mimetype": "text/x-python",
   "name": "python",
   "nbconvert_exporter": "python",
   "pygments_lexer": "ipython3",
   "version": "3.9.10"
  },
  "orig_nbformat": 4
 },
 "nbformat": 4,
 "nbformat_minor": 2
}
