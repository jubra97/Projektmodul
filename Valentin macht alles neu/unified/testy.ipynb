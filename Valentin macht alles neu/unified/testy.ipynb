{
 "cells": [
  {
   "cell_type": "code",
   "execution_count": 1,
   "metadata": {},
   "outputs": [],
   "source": [
    "import torch\n",
    "import torch.nn as nn\n",
    "from utilities import lag_matrix\n",
    "from NARX import NARX\n",
    "from ANARX import ANARX\n",
    "import matplotlib.pyplot as plt"
   ]
  },
  {
   "cell_type": "code",
   "execution_count": 2,
   "metadata": {},
   "outputs": [],
   "source": [
    "nana = ANARX(2, [2], n_hidden=5, layersize=100)"
   ]
  },
  {
   "cell_type": "code",
   "execution_count": 3,
   "metadata": {},
   "outputs": [
    {
     "ename": "TypeError",
     "evalue": "lag_matrix() takes 2 positional arguments but 3 were given",
     "output_type": "error",
     "traceback": [
      "\u001b[1;31m---------------------------------------------------------------------------\u001b[0m",
      "\u001b[1;31mTypeError\u001b[0m                                 Traceback (most recent call last)",
      "\u001b[1;32mc:\\Users\\vh\\Documents\\Projektmodul\\Valentin macht alles neu\\unified\\testy.ipynb Cell 3'\u001b[0m in \u001b[0;36m<module>\u001b[1;34m\u001b[0m\n\u001b[0;32m      <a href='vscode-notebook-cell:/c%3A/Users/vh/Documents/Projektmodul/Valentin%20macht%20alles%20neu/unified/testy.ipynb#ch0000002?line=1'>2</a>\u001b[0m in1 \u001b[39m=\u001b[39m torch\u001b[39m.\u001b[39marange(\u001b[39m100\u001b[39m, dtype\u001b[39m=\u001b[39mtorch\u001b[39m.\u001b[39mfloat32)\n\u001b[0;32m      <a href='vscode-notebook-cell:/c%3A/Users/vh/Documents/Projektmodul/Valentin%20macht%20alles%20neu/unified/testy.ipynb#ch0000002?line=2'>3</a>\u001b[0m in2 \u001b[39m=\u001b[39m torch\u001b[39m.\u001b[39marange(\u001b[39m100\u001b[39m, dtype\u001b[39m=\u001b[39mtorch\u001b[39m.\u001b[39mfloat32)\n\u001b[1;32m----> <a href='vscode-notebook-cell:/c%3A/Users/vh/Documents/Projektmodul/Valentin%20macht%20alles%20neu/unified/testy.ipynb#ch0000002?line=4'>5</a>\u001b[0m in1_lagged \u001b[39m=\u001b[39m lag_matrix(in1, \u001b[39m4\u001b[39;49m, \u001b[39m4\u001b[39;49m)\n\u001b[0;32m      <a href='vscode-notebook-cell:/c%3A/Users/vh/Documents/Projektmodul/Valentin%20macht%20alles%20neu/unified/testy.ipynb#ch0000002?line=5'>6</a>\u001b[0m in2_lagged \u001b[39m=\u001b[39m lag_matrix(in2, \u001b[39m1\u001b[39m, \u001b[39m4\u001b[39m)\n\u001b[0;32m      <a href='vscode-notebook-cell:/c%3A/Users/vh/Documents/Projektmodul/Valentin%20macht%20alles%20neu/unified/testy.ipynb#ch0000002?line=6'>7</a>\u001b[0m out_lagged \u001b[39m=\u001b[39m lag_matrix(outs, \u001b[39m3\u001b[39m, \u001b[39m4\u001b[39m)\n",
      "\u001b[1;31mTypeError\u001b[0m: lag_matrix() takes 2 positional arguments but 3 were given"
     ]
    }
   ],
   "source": [
    "outs = torch.arange(100, dtype=torch.float32)\n",
    "in1 = torch.arange(100, dtype=torch.float32)\n",
    "in2 = torch.arange(100, dtype=torch.float32)\n",
    "\n",
    "in1_lagged = lag_matrix(in1, 4, 4)\n",
    "in2_lagged = lag_matrix(in2, 1, 4)\n",
    "out_lagged = lag_matrix(outs, 3, 4)\n",
    "y_hat = torch.zeros_like(outs)\n",
    "for i in range(len(y_hat)):\n",
    "    y_hat[i] = nana(out_lagged[i], [in1_lagged[i], in2_lagged[i]])\n",
    "\n",
    "plt.plot(nana.predict([in1, in2]).detach().numpy())\n",
    "plt.plot(y_hat.detach().numpy())\n",
    "plt.show()\n"
   ]
  },
  {
   "cell_type": "code",
   "execution_count": 13,
   "metadata": {},
   "outputs": [
    {
     "data": {
      "text/plain": [
       "tensor([0., 0.])"
      ]
     },
     "execution_count": 13,
     "metadata": {},
     "output_type": "execute_result"
    }
   ],
   "source": [
    "ana = ANARX(2, [4,2])\n",
    "outs = torch.arange(4, dtype=torch.float32)\n",
    "in1 = torch.arange(4, dtype=torch.float32)\n",
    "in2 = torch.arange(4, dtype=torch.float32)\n",
    "in1_lagged = lag_matrix(in1, 4)\n",
    "in2_lagged = lag_matrix(in2, 2)\n",
    "out_lagged = lag_matrix(outs, 2)\n",
    "out_lagged[1,:]\n",
    "\n",
    "# print(ana.prepare_inputs(out_lagged[2:4], [in1_lagged[2:4], in2_lagged[2:4]]))\n",
    "# print(out_lagged[2:4, 1])\n",
    "\n",
    "\n"
   ]
  },
  {
   "cell_type": "code",
   "execution_count": 26,
   "metadata": {},
   "outputs": [
    {
     "name": "stdout",
     "output_type": "stream",
     "text": [
      "tensor([[1.4013e-45, 0.0000e+00],\n",
      "        [1.2711e+20, 4.5916e-41]])\n",
      "tensor([[1.0000e+00, 0.0000e+00],\n",
      "        [1.2711e+20, 4.5916e-41]])\n"
     ]
    }
   ],
   "source": [
    "a = torch.Tensor(2,2)\n",
    "b = torch.Tensor(2,2)\n",
    "print(a)\n",
    "print(b)"
   ]
  },
  {
   "cell_type": "code",
   "execution_count": 31,
   "metadata": {},
   "outputs": [
    {
     "data": {
      "text/plain": [
       "tensor([[0.0000e+00, 4.5916e-41],\n",
       "        [0.0000e+00, 4.5916e-41]])"
      ]
     },
     "execution_count": 31,
     "metadata": {},
     "output_type": "execute_result"
    }
   ],
   "source": [
    "torch.cat([b[:,1].unsqueeze(dim=0), a[:,1].unsqueeze(dim=0)], dim=0)"
   ]
  }
 ],
 "metadata": {
  "interpreter": {
   "hash": "065d846d6ebaa483d35d8a16a352bc8e0fee095aa1ce42ceeff74c200bef19a0"
  },
  "kernelspec": {
   "display_name": "Python 3.9.10 ('Projektmodul')",
   "language": "python",
   "name": "python3"
  },
  "language_info": {
   "codemirror_mode": {
    "name": "ipython",
    "version": 3
   },
   "file_extension": ".py",
   "mimetype": "text/x-python",
   "name": "python",
   "nbconvert_exporter": "python",
   "pygments_lexer": "ipython3",
   "version": "3.9.10"
  },
  "orig_nbformat": 4
 },
 "nbformat": 4,
 "nbformat_minor": 2
}
