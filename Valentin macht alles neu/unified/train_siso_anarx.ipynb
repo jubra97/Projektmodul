{
 "cells": [
  {
   "cell_type": "code",
   "execution_count": 14,
   "metadata": {},
   "outputs": [
    {
     "name": "stdout",
     "output_type": "stream",
     "text": [
      "c:\\Users\\vh\\Documents\\Projektmodul\\Valentin macht alles neu\\unified\n"
     ]
    }
   ],
   "source": [
    "import torch\n",
    "import torch.nn as nn\n",
    "from NARX import NARX\n",
    "from ANARX import ANARX\n",
    "import matplotlib.pyplot as plt\n",
    "from tqdm import tqdm\n",
    "from utilities import lag_matrix\n",
    "from sysidentpy.utils.generate_data import get_siso_data\n",
    "import scipy.io\n",
    "\n",
    "from pathlib import Path\n",
    "print(Path.cwd())\n"
   ]
  },
  {
   "cell_type": "code",
   "execution_count": 15,
   "metadata": {},
   "outputs": [],
   "source": [
    "data = scipy.io.loadmat(\"data/1803\")\n",
    "input = data[\"u2_t\"]\n",
    "out = data[\"y_t\"]"
   ]
  },
  {
   "cell_type": "code",
   "execution_count": 16,
   "metadata": {},
   "outputs": [],
   "source": [
    "INPUT_LAGS = 5\n",
    "OUTPUT_LAGS = 14"
   ]
  },
  {
   "cell_type": "code",
   "execution_count": 17,
   "metadata": {},
   "outputs": [],
   "source": [
    "model = ANARX(14, [5], n_hidden=3, layersize= 10, afunc=torch.tanh, SANARX=True)"
   ]
  },
  {
   "cell_type": "code",
   "execution_count": 19,
   "metadata": {},
   "outputs": [
    {
     "name": "stdout",
     "output_type": "stream",
     "text": [
      "ANARX(\n",
      "  (subnets): ModuleList(\n",
      "    (0): LAGNET(\n",
      "      (linear_layers): ModuleList(\n",
      "        (0): Linear(in_features=2, out_features=1, bias=True)\n",
      "      )\n",
      "    )\n",
      "    (1): LAGNET(\n",
      "      (linear_layers): ModuleList(\n",
      "        (0): Linear(in_features=2, out_features=10, bias=True)\n",
      "        (1): Linear(in_features=10, out_features=10, bias=True)\n",
      "        (2): Linear(in_features=10, out_features=1, bias=True)\n",
      "      )\n",
      "    )\n",
      "    (2): LAGNET(\n",
      "      (linear_layers): ModuleList(\n",
      "        (0): Linear(in_features=2, out_features=10, bias=True)\n",
      "        (1): Linear(in_features=10, out_features=10, bias=True)\n",
      "        (2): Linear(in_features=10, out_features=1, bias=True)\n",
      "      )\n",
      "    )\n",
      "    (3): LAGNET(\n",
      "      (linear_layers): ModuleList(\n",
      "        (0): Linear(in_features=2, out_features=10, bias=True)\n",
      "        (1): Linear(in_features=10, out_features=10, bias=True)\n",
      "        (2): Linear(in_features=10, out_features=1, bias=True)\n",
      "      )\n",
      "    )\n",
      "    (4): LAGNET(\n",
      "      (linear_layers): ModuleList(\n",
      "        (0): Linear(in_features=2, out_features=10, bias=True)\n",
      "        (1): Linear(in_features=10, out_features=10, bias=True)\n",
      "        (2): Linear(in_features=10, out_features=1, bias=True)\n",
      "      )\n",
      "    )\n",
      "    (5): LAGNET(\n",
      "      (linear_layers): ModuleList(\n",
      "        (0): Linear(in_features=1, out_features=10, bias=True)\n",
      "        (1): Linear(in_features=10, out_features=10, bias=True)\n",
      "        (2): Linear(in_features=10, out_features=1, bias=True)\n",
      "      )\n",
      "    )\n",
      "    (6): LAGNET(\n",
      "      (linear_layers): ModuleList(\n",
      "        (0): Linear(in_features=1, out_features=10, bias=True)\n",
      "        (1): Linear(in_features=10, out_features=10, bias=True)\n",
      "        (2): Linear(in_features=10, out_features=1, bias=True)\n",
      "      )\n",
      "    )\n",
      "    (7): LAGNET(\n",
      "      (linear_layers): ModuleList(\n",
      "        (0): Linear(in_features=1, out_features=10, bias=True)\n",
      "        (1): Linear(in_features=10, out_features=10, bias=True)\n",
      "        (2): Linear(in_features=10, out_features=1, bias=True)\n",
      "      )\n",
      "    )\n",
      "    (8): LAGNET(\n",
      "      (linear_layers): ModuleList(\n",
      "        (0): Linear(in_features=1, out_features=10, bias=True)\n",
      "        (1): Linear(in_features=10, out_features=10, bias=True)\n",
      "        (2): Linear(in_features=10, out_features=1, bias=True)\n",
      "      )\n",
      "    )\n",
      "    (9): LAGNET(\n",
      "      (linear_layers): ModuleList(\n",
      "        (0): Linear(in_features=1, out_features=10, bias=True)\n",
      "        (1): Linear(in_features=10, out_features=10, bias=True)\n",
      "        (2): Linear(in_features=10, out_features=1, bias=True)\n",
      "      )\n",
      "    )\n",
      "    (10): LAGNET(\n",
      "      (linear_layers): ModuleList(\n",
      "        (0): Linear(in_features=1, out_features=10, bias=True)\n",
      "        (1): Linear(in_features=10, out_features=10, bias=True)\n",
      "        (2): Linear(in_features=10, out_features=1, bias=True)\n",
      "      )\n",
      "    )\n",
      "    (11): LAGNET(\n",
      "      (linear_layers): ModuleList(\n",
      "        (0): Linear(in_features=1, out_features=10, bias=True)\n",
      "        (1): Linear(in_features=10, out_features=10, bias=True)\n",
      "        (2): Linear(in_features=10, out_features=1, bias=True)\n",
      "      )\n",
      "    )\n",
      "    (12): LAGNET(\n",
      "      (linear_layers): ModuleList(\n",
      "        (0): Linear(in_features=1, out_features=10, bias=True)\n",
      "        (1): Linear(in_features=10, out_features=10, bias=True)\n",
      "        (2): Linear(in_features=10, out_features=1, bias=True)\n",
      "      )\n",
      "    )\n",
      "    (13): LAGNET(\n",
      "      (linear_layers): ModuleList(\n",
      "        (0): Linear(in_features=1, out_features=10, bias=True)\n",
      "        (1): Linear(in_features=10, out_features=10, bias=True)\n",
      "        (2): Linear(in_features=10, out_features=1, bias=True)\n",
      "      )\n",
      "    )\n",
      "  )\n",
      ")\n"
     ]
    }
   ],
   "source": [
    "print(model)"
   ]
  },
  {
   "cell_type": "code",
   "execution_count": 20,
   "metadata": {},
   "outputs": [],
   "source": [
    "out = torch.Tensor(out).squeeze()\n",
    "input = torch.Tensor(input).squeeze()\n",
    "in_lagged = lag_matrix(input, INPUT_LAGS)\n",
    "out_lagged = lag_matrix(out, OUTPUT_LAGS)\n"
   ]
  },
  {
   "cell_type": "code",
   "execution_count": 29,
   "metadata": {},
   "outputs": [
    {
     "data": {
      "image/png": "[encoded data removed]",
      "text/plain": [
       "<Figure size 432x288 with 1 Axes>"
      ]
     },
     "metadata": {
      "needs_background": "light"
     },
     "output_type": "display_data"
    }
   ],
   "source": [
    "plt.plot(out.detach().numpy())\n",
    "plt.plot(model.justpredict([input]).detach().numpy())\n",
    "plt.show()"
   ]
  },
  {
   "cell_type": "code",
   "execution_count": 26,
   "metadata": {},
   "outputs": [
    {
     "name": "stderr",
     "output_type": "stream",
     "text": [
      "100%|██████████| 200/200 [02:06<00:00,  1.59it/s]\n"
     ]
    }
   ],
   "source": [
    "# Open Loop Training\n",
    "optim = torch.optim.Adam(model.parameters())\n",
    "crit = nn.MSELoss()\n",
    "dataset = torch.utils.data.TensorDataset(in_lagged, out_lagged, out)\n",
    "loader = torch.utils.data.DataLoader(dataset, batch_size=20, shuffle=False)\n",
    "for epoch in tqdm(range(200)):\n",
    "    for i1, ol, os in loader:\n",
    "        optim.zero_grad()\n",
    "        result = model(ol, [i1])\n",
    "        # print(result)\n",
    "        loss = crit(result, os)\n",
    "        loss.backward()\n",
    "        optim.step()"
   ]
  },
  {
   "cell_type": "code",
   "execution_count": 24,
   "metadata": {},
   "outputs": [
    {
     "name": "stderr",
     "output_type": "stream",
     "text": [
      "100%|██████████| 1/1 [00:24<00:00, 24.51s/it]\n"
     ]
    }
   ],
   "source": [
    "# Closed Loop Training\n",
    "optim = torch.optim.Adam(model.parameters())\n",
    "crit = nn.MSELoss()\n",
    "for i in tqdm(range(1)):\n",
    "    optim.zero_grad()\n",
    "    pred = model.predict([input])\n",
    "    loss = crit(pred, out)\n",
    "    loss.backward()\n",
    "    optim.step()"
   ]
  },
  {
   "cell_type": "code",
   "execution_count": 18,
   "metadata": {},
   "outputs": [],
   "source": [
    "torch.save(model, \"sanarx_14_5_5.pt\")"
   ]
  }
 ],
 "metadata": {
  "interpreter": {
   "hash": "065d846d6ebaa483d35d8a16a352bc8e0fee095aa1ce42ceeff74c200bef19a0"
  },
  "kernelspec": {
   "display_name": "Python 3.9.10 ('Projektmodul')",
   "language": "python",
   "name": "python3"
  },
  "language_info": {
   "codemirror_mode": {
    "name": "ipython",
    "version": 3
   },
   "file_extension": ".py",
   "mimetype": "text/x-python",
   "name": "python",
   "nbconvert_exporter": "python",
   "pygments_lexer": "ipython3",
   "version": "3.9.10"
  },
  "orig_nbformat": 4
 },
 "nbformat": 4,
 "nbformat_minor": 2
}
