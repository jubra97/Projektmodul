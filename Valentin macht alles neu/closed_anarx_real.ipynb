{
 "cells": [
  {
   "cell_type": "code",
   "execution_count": 1,
   "metadata": {},
   "outputs": [],
   "source": [
    "import torch\n",
    "import torch.nn as nn\n",
    "import matplotlib.pyplot as plt\n",
    "from utilities import lag_matrix\n",
    "from torch.utils.tensorboard import SummaryWriter\n",
    "from anarx import ANARX_TWO_v2"
   ]
  },
  {
   "cell_type": "code",
   "execution_count": 2,
   "metadata": {},
   "outputs": [],
   "source": [
    "writer = SummaryWriter()\n",
    "total_epochs = 0"
   ]
  },
  {
   "cell_type": "code",
   "execution_count": 3,
   "metadata": {},
   "outputs": [],
   "source": [
    "a = ANARX_TWO_v2(20)\n",
    "criterion = nn.MSELoss()\n",
    "optimizer = torch.optim.Adam(a.parameters())\n",
    "\n"
   ]
  },
  {
   "cell_type": "code",
   "execution_count": 4,
   "metadata": {},
   "outputs": [],
   "source": [
    "import scipy.io\n",
    "mat = scipy.io.loadmat('data/miso_nosteps')\n",
    "u1 = mat['u1_v']\n",
    "u2 = mat['u2_v']\n",
    "y = mat['y_v']"
   ]
  },
  {
   "cell_type": "code",
   "execution_count": 5,
   "metadata": {},
   "outputs": [],
   "source": [
    "u1 = torch.squeeze(torch.from_numpy(u1))\n",
    "u2 = torch.squeeze(torch.from_numpy(u2))\n",
    "y = torch.squeeze(torch.from_numpy(y))\n",
    "lagged_u1 = lag_matrix(u1, a.nlags)\n",
    "lagged_u2 = lag_matrix(u2, a.nlags)\n"
   ]
  },
  {
   "cell_type": "code",
   "execution_count": 6,
   "metadata": {},
   "outputs": [
    {
     "name": "stderr",
     "output_type": "stream",
     "text": [
      "  0%|          | 0/1 [00:00<?, ?it/s]"
     ]
    },
    {
     "name": "stdout",
     "output_type": "stream",
     "text": [
      "Computing Loss\n",
      "Computing Backward\n"
     ]
    },
    {
     "data": {
      "image/png": "[encoded data removed]",
      "text/plain": [
       "<Figure size 432x288 with 1 Axes>"
      ]
     },
     "metadata": {
      "needs_background": "light"
     },
     "output_type": "display_data"
    },
    {
     "name": "stderr",
     "output_type": "stream",
     "text": [
      "100%|██████████| 1/1 [00:06<00:00,  6.04s/it]\n"
     ]
    }
   ],
   "source": [
    "from tqdm import tqdm\n",
    "for epoch in tqdm(range(1)):\n",
    "    total_epochs = total_epochs + 1\n",
    "    y_hat = torch.zeros_like(u1)\n",
    "    optimizer.zero_grad()\n",
    "    lags = a.initLags()\n",
    "    # Predict whole Dataset\n",
    "    for i in range(len(u1)):\n",
    "        y_hat[i] = a(lagged_u1[i], lagged_u2[i], lags)\n",
    "        lags = torch.roll(lags, 1, 0)\n",
    "        lags[0] = y_hat[i]\n",
    "    # Compute Loss and optimize\n",
    "    print(\"Computing Loss\")\n",
    "    loss = criterion(y_hat, y)\n",
    "    optimizer.zero_grad()\n",
    "    print(\"Computing Backward\")\n",
    "    loss.backward(retain_graph=False)\n",
    "    plt.plot(y_hat.detach().numpy())\n",
    "    plt.plot(y)\n",
    "    plt.show()\n",
    "    writer.add_scalar('Loss/train', loss, total_epochs)\n",
    "    optimizer.step()"
   ]
  },
  {
   "cell_type": "code",
   "execution_count": 7,
   "metadata": {},
   "outputs": [],
   "source": [
    "# torch.save(a, \"anarxreal.pt\")"
   ]
  }
 ],
 "metadata": {
  "interpreter": {
   "hash": "065d846d6ebaa483d35d8a16a352bc8e0fee095aa1ce42ceeff74c200bef19a0"
  },
  "kernelspec": {
   "display_name": "Python 3.9.7 ('Projektmodul')",
   "language": "python",
   "name": "python3"
  },
  "language_info": {
   "codemirror_mode": {
    "name": "ipython",
    "version": 3
   },
   "file_extension": ".py",
   "mimetype": "text/x-python",
   "name": "python",
   "nbconvert_exporter": "python",
   "pygments_lexer": "ipython3",
   "version": "3.9.10"
  },
  "orig_nbformat": 4
 },
 "nbformat": 4,
 "nbformat_minor": 2
}
