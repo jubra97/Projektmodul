{
 "cells": [
  {
   "cell_type": "code",
   "execution_count": 9,
   "metadata": {},
   "outputs": [],
   "source": [
    "import torch\n",
    "import torch.nn as nn\n",
    "import matplotlib.pyplot as plt\n",
    "import numpy as np\n",
    "from utilities import lag_matrix\n",
    "from torch.utils.tensorboard import SummaryWriter\n",
    "from anarx import ANARX"
   ]
  },
  {
   "cell_type": "code",
   "execution_count": 10,
   "metadata": {},
   "outputs": [],
   "source": [
    "writer = SummaryWriter()\n",
    "total_epochs = 0"
   ]
  },
  {
   "cell_type": "code",
   "execution_count": 11,
   "metadata": {},
   "outputs": [],
   "source": [
    "a = ANARX(10)\n",
    "criterion = nn.MSELoss()\n",
    "optimizer = torch.optim.Adam(a.parameters(), lr=5e-4)\n",
    "\n"
   ]
  },
  {
   "cell_type": "code",
   "execution_count": 12,
   "metadata": {},
   "outputs": [
    {
     "data": {
      "text/plain": [
       "[<matplotlib.lines.Line2D at 0x1a4eee99520>]"
      ]
     },
     "execution_count": 12,
     "metadata": {},
     "output_type": "execute_result"
    },
    {
     "data": {
      "image/png": "[encoded data removed]",
      "text/plain": [
       "<Figure size 432x288 with 1 Axes>"
      ]
     },
     "metadata": {
      "needs_background": "light"
     },
     "output_type": "display_data"
    }
   ],
   "source": [
    "import control\n",
    "T1 = 0.003\n",
    "T2 = 0.01\n",
    "D = 1.5\n",
    "sysin = control.tf([1], [T1**2, D*T1, 1])\n",
    "sys = control.tf([1], [T2**2, D*T2, 1])\n",
    "sys2 = control.tf([1], [1])\n",
    "time = np.linspace(0, .3, 1000)\n",
    "u = np.concatenate((np.zeros(200), np.ones(600), np.zeros(200)))\n",
    "_, yin = control.forced_response(sysin, T = time, U = u)\n",
    "_, uin = control.forced_response(sys2, T = time, U = u)\n",
    "_, yout = control.forced_response(sys, T = time, U = yin)\n",
    "plt.plot(yout)\n",
    "plt.plot(yin)\n",
    "plt.plot(uin)"
   ]
  },
  {
   "cell_type": "code",
   "execution_count": 13,
   "metadata": {},
   "outputs": [],
   "source": [
    "inputs = torch.from_numpy(yin)\n",
    "outputs = torch.from_numpy(yout)\n",
    "lagged_inputs = lag_matrix(inputs, a.nlags)\n"
   ]
  },
  {
   "cell_type": "code",
   "execution_count": 14,
   "metadata": {},
   "outputs": [
    {
     "name": "stderr",
     "output_type": "stream",
     "text": [
      "  2%|▏         | 2/100 [00:06<05:13,  3.20s/it]\n"
     ]
    },
    {
     "ename": "KeyboardInterrupt",
     "evalue": "",
     "output_type": "error",
     "traceback": [
      "\u001b[1;31m---------------------------------------------------------------------------\u001b[0m",
      "\u001b[1;31mKeyboardInterrupt\u001b[0m                         Traceback (most recent call last)",
      "\u001b[1;32mc:\\Users\\vh\\Documents\\Projektmodul\\Valentin macht alles neu\\closed_anarx_pt2.ipynb Cell 6'\u001b[0m in \u001b[0;36m<module>\u001b[1;34m\u001b[0m\n\u001b[0;32m      <a href='vscode-notebook-cell:/c%3A/Users/vh/Documents/Projektmodul/Valentin%20macht%20alles%20neu/closed_anarx_pt2.ipynb#ch0000005?line=6'>7</a>\u001b[0m \u001b[39m# Predict whole Dataset\u001b[39;00m\n\u001b[0;32m      <a href='vscode-notebook-cell:/c%3A/Users/vh/Documents/Projektmodul/Valentin%20macht%20alles%20neu/closed_anarx_pt2.ipynb#ch0000005?line=7'>8</a>\u001b[0m \u001b[39mfor\u001b[39;00m i \u001b[39min\u001b[39;00m \u001b[39mrange\u001b[39m(\u001b[39mlen\u001b[39m(inputs)):\n\u001b[1;32m----> <a href='vscode-notebook-cell:/c%3A/Users/vh/Documents/Projektmodul/Valentin%20macht%20alles%20neu/closed_anarx_pt2.ipynb#ch0000005?line=8'>9</a>\u001b[0m     y_hat[i] \u001b[39m=\u001b[39m a(lagged_inputs[i], lags)\n\u001b[0;32m     <a href='vscode-notebook-cell:/c%3A/Users/vh/Documents/Projektmodul/Valentin%20macht%20alles%20neu/closed_anarx_pt2.ipynb#ch0000005?line=9'>10</a>\u001b[0m     lags \u001b[39m=\u001b[39m torch\u001b[39m.\u001b[39mroll(lags, \u001b[39m1\u001b[39m, \u001b[39m0\u001b[39m)\n\u001b[0;32m     <a href='vscode-notebook-cell:/c%3A/Users/vh/Documents/Projektmodul/Valentin%20macht%20alles%20neu/closed_anarx_pt2.ipynb#ch0000005?line=10'>11</a>\u001b[0m     lags[\u001b[39m0\u001b[39m] \u001b[39m=\u001b[39m y_hat[i]\n",
      "File \u001b[1;32m~\\anaconda3\\envs\\Projektmodul\\lib\\site-packages\\torch\\nn\\modules\\module.py:1102\u001b[0m, in \u001b[0;36mModule._call_impl\u001b[1;34m(self, *input, **kwargs)\u001b[0m\n\u001b[0;32m   <a href='file:///c%3A/Users/vh/anaconda3/envs/Projektmodul/lib/site-packages/torch/nn/modules/module.py?line=1097'>1098</a>\u001b[0m \u001b[39m# If we don't have any hooks, we want to skip the rest of the logic in\u001b[39;00m\n\u001b[0;32m   <a href='file:///c%3A/Users/vh/anaconda3/envs/Projektmodul/lib/site-packages/torch/nn/modules/module.py?line=1098'>1099</a>\u001b[0m \u001b[39m# this function, and just call forward.\u001b[39;00m\n\u001b[0;32m   <a href='file:///c%3A/Users/vh/anaconda3/envs/Projektmodul/lib/site-packages/torch/nn/modules/module.py?line=1099'>1100</a>\u001b[0m \u001b[39mif\u001b[39;00m \u001b[39mnot\u001b[39;00m (\u001b[39mself\u001b[39m\u001b[39m.\u001b[39m_backward_hooks \u001b[39mor\u001b[39;00m \u001b[39mself\u001b[39m\u001b[39m.\u001b[39m_forward_hooks \u001b[39mor\u001b[39;00m \u001b[39mself\u001b[39m\u001b[39m.\u001b[39m_forward_pre_hooks \u001b[39mor\u001b[39;00m _global_backward_hooks\n\u001b[0;32m   <a href='file:///c%3A/Users/vh/anaconda3/envs/Projektmodul/lib/site-packages/torch/nn/modules/module.py?line=1100'>1101</a>\u001b[0m         \u001b[39mor\u001b[39;00m _global_forward_hooks \u001b[39mor\u001b[39;00m _global_forward_pre_hooks):\n\u001b[1;32m-> <a href='file:///c%3A/Users/vh/anaconda3/envs/Projektmodul/lib/site-packages/torch/nn/modules/module.py?line=1101'>1102</a>\u001b[0m     \u001b[39mreturn\u001b[39;00m forward_call(\u001b[39m*\u001b[39m\u001b[39minput\u001b[39m, \u001b[39m*\u001b[39m\u001b[39m*\u001b[39mkwargs)\n\u001b[0;32m   <a href='file:///c%3A/Users/vh/anaconda3/envs/Projektmodul/lib/site-packages/torch/nn/modules/module.py?line=1102'>1103</a>\u001b[0m \u001b[39m# Do not call functions when jit is used\u001b[39;00m\n\u001b[0;32m   <a href='file:///c%3A/Users/vh/anaconda3/envs/Projektmodul/lib/site-packages/torch/nn/modules/module.py?line=1103'>1104</a>\u001b[0m full_backward_hooks, non_full_backward_hooks \u001b[39m=\u001b[39m [], []\n",
      "File \u001b[1;32mc:\\Users\\vh\\Documents\\Projektmodul\\Valentin macht alles neu\\anarx.py:27\u001b[0m, in \u001b[0;36mANARX.forward\u001b[1;34m(self, x_lagged, y_lagged)\u001b[0m\n\u001b[0;32m     <a href='file:///c%3A/Users/vh/Documents/Projektmodul/Valentin%20macht%20alles%20neu/anarx.py?line=24'>25</a>\u001b[0m \u001b[39m# Compute Subnet Outputs\u001b[39;00m\n\u001b[0;32m     <a href='file:///c%3A/Users/vh/Documents/Projektmodul/Valentin%20macht%20alles%20neu/anarx.py?line=25'>26</a>\u001b[0m \u001b[39mfor\u001b[39;00m i, subnet \u001b[39min\u001b[39;00m \u001b[39menumerate\u001b[39m(\u001b[39mself\u001b[39m\u001b[39m.\u001b[39msubnets):\n\u001b[1;32m---> <a href='file:///c%3A/Users/vh/Documents/Projektmodul/Valentin%20macht%20alles%20neu/anarx.py?line=26'>27</a>\u001b[0m     output \u001b[39m=\u001b[39m subnet(torch\u001b[39m.\u001b[39;49mstack((x_lagged[i], y_lagged[i])))\n\u001b[0;32m     <a href='file:///c%3A/Users/vh/Documents/Projektmodul/Valentin%20macht%20alles%20neu/anarx.py?line=27'>28</a>\u001b[0m     x[i] \u001b[39m=\u001b[39m output\n\u001b[0;32m     <a href='file:///c%3A/Users/vh/Documents/Projektmodul/Valentin%20macht%20alles%20neu/anarx.py?line=28'>29</a>\u001b[0m \u001b[39mreturn\u001b[39;00m torch\u001b[39m.\u001b[39msum(x)\n",
      "\u001b[1;31mKeyboardInterrupt\u001b[0m: "
     ]
    }
   ],
   "source": [
    "from tqdm import tqdm\n",
    "for epoch in tqdm(range(100)):\n",
    "    total_epochs = total_epochs + 1\n",
    "    y_hat = torch.zeros_like(inputs)\n",
    "    optimizer.zero_grad()\n",
    "    lags = a.initLags()\n",
    "    # Predict whole Dataset\n",
    "    for i in range(len(inputs)):\n",
    "        y_hat[i] = a(lagged_inputs[i], lags)\n",
    "        lags = torch.roll(lags, 1, 0)\n",
    "        lags[0] = y_hat[i]\n",
    "    # Compute Loss and optimize\n",
    "    loss = criterion(y_hat, outputs)\n",
    "    optimizer.zero_grad()\n",
    "    loss.backward(retain_graph=False)\n",
    "    writer.add_scalar('Loss/train', loss, total_epochs)\n",
    "    optimizer.step()"
   ]
  },
  {
   "cell_type": "code",
   "execution_count": null,
   "metadata": {},
   "outputs": [
    {
     "data": {
      "image/png": "[encoded data removed]",
      "text/plain": [
       "<Figure size 432x288 with 1 Axes>"
      ]
     },
     "metadata": {
      "needs_background": "light"
     },
     "output_type": "display_data"
    },
    {
     "name": "stdout",
     "output_type": "stream",
     "text": [
      "tensor(0.0755, dtype=torch.float64, grad_fn=<MseLossBackward0>)\n"
     ]
    }
   ],
   "source": [
    "plt.plot(y_hat.detach().numpy())\n",
    "plt.plot(outputs)\n",
    "plt.show()\n",
    "print(loss)"
   ]
  },
  {
   "cell_type": "code",
   "execution_count": null,
   "metadata": {},
   "outputs": [],
   "source": [
    "torch.save(a, \"anarxpt2.pt\")"
   ]
  }
 ],
 "metadata": {
  "interpreter": {
   "hash": "065d846d6ebaa483d35d8a16a352bc8e0fee095aa1ce42ceeff74c200bef19a0"
  },
  "kernelspec": {
   "display_name": "Python 3.9.7 ('Projektmodul')",
   "language": "python",
   "name": "python3"
  },
  "language_info": {
   "codemirror_mode": {
    "name": "ipython",
    "version": 3
   },
   "file_extension": ".py",
   "mimetype": "text/x-python",
   "name": "python",
   "nbconvert_exporter": "python",
   "pygments_lexer": "ipython3",
   "version": "3.9.10"
  },
  "orig_nbformat": 4
 },
 "nbformat": 4,
 "nbformat_minor": 2
}
